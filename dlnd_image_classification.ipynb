{
 "cells": [
  {
   "cell_type": "markdown",
   "metadata": {
    "collapsed": true
   },
   "source": [
    "# Image Classification\n",
    "In this project, you'll classify images from the [CIFAR-10 dataset](https://www.cs.toronto.edu/~kriz/cifar.html).  The dataset consists of airplanes, dogs, cats, and other objects. You'll preprocess the images, then train a convolutional neural network on all the samples. The images need to be normalized and the labels need to be one-hot encoded.  You'll get to apply what you learned and build a convolutional, max pooling, dropout, and fully connected layers.  At the end, you'll get to see your neural network's predictions on the sample images.\n",
    "## Get the Data\n",
    "Run the following cell to download the [CIFAR-10 dataset for python](https://www.cs.toronto.edu/~kriz/cifar-10-python.tar.gz)."
   ]
  },
  {
   "cell_type": "code",
   "execution_count": 1,
   "metadata": {},
   "outputs": [
    {
     "name": "stdout",
     "output_type": "stream",
     "text": [
      "All files found!\n"
     ]
    }
   ],
   "source": [
    "\"\"\"\n",
    "DON'T MODIFY ANYTHING IN THIS CELL THAT IS BELOW THIS LINE\n",
    "\"\"\"\n",
    "from urllib.request import urlretrieve\n",
    "from os.path import isfile, isdir\n",
    "from tqdm import tqdm\n",
    "import problem_unittests as tests\n",
    "import tarfile\n",
    "\n",
    "cifar10_dataset_folder_path = 'cifar-10-batches-py'\n",
    "\n",
    "# Use Floyd's cifar-10 dataset if present\n",
    "floyd_cifar10_location = '/input/cifar-10/python.tar.gz'\n",
    "if isfile(floyd_cifar10_location):\n",
    "    tar_gz_path = floyd_cifar10_location\n",
    "else:\n",
    "    tar_gz_path = 'cifar-10-python.tar.gz'\n",
    "\n",
    "class DLProgress(tqdm):\n",
    "    last_block = 0\n",
    "\n",
    "    def hook(self, block_num=1, block_size=1, total_size=None):\n",
    "        self.total = total_size\n",
    "        self.update((block_num - self.last_block) * block_size)\n",
    "        self.last_block = block_num\n",
    "\n",
    "if not isfile(tar_gz_path):\n",
    "    with DLProgress(unit='B', unit_scale=True, miniters=1, desc='CIFAR-10 Dataset') as pbar:\n",
    "        urlretrieve(\n",
    "            'https://www.cs.toronto.edu/~kriz/cifar-10-python.tar.gz',\n",
    "            tar_gz_path,\n",
    "            pbar.hook)\n",
    "\n",
    "if not isdir(cifar10_dataset_folder_path):\n",
    "    with tarfile.open(tar_gz_path) as tar:\n",
    "        tar.extractall()\n",
    "        tar.close()\n",
    "\n",
    "\n",
    "tests.test_folder_path(cifar10_dataset_folder_path)"
   ]
  },
  {
   "cell_type": "markdown",
   "metadata": {},
   "source": [
    "## Explore the Data\n",
    "The dataset is broken into batches to prevent your machine from running out of memory.  The CIFAR-10 dataset consists of 5 batches, named `data_batch_1`, `data_batch_2`, etc.. Each batch contains the labels and images that are one of the following:\n",
    "* airplane\n",
    "* automobile\n",
    "* bird\n",
    "* cat\n",
    "* deer\n",
    "* dog\n",
    "* frog\n",
    "* horse\n",
    "* ship\n",
    "* truck\n",
    "\n",
    "Understanding a dataset is part of making predictions on the data.  Play around with the code cell below by changing the `batch_id` and `sample_id`. The `batch_id` is the id for a batch (1-5). The `sample_id` is the id for a image and label pair in the batch.\n",
    "\n",
    "Ask yourself \"What are all possible labels?\", \"What is the range of values for the image data?\", \"Are the labels in order or random?\".  Answers to questions like these will help you preprocess the data and end up with better predictions."
   ]
  },
  {
   "cell_type": "code",
   "execution_count": 2,
   "metadata": {},
   "outputs": [
    {
     "name": "stdout",
     "output_type": "stream",
     "text": [
      "\n",
      "Stats of batch 2:\n",
      "Samples: 10000\n",
      "Label Counts: {0: 984, 1: 1007, 2: 1010, 3: 995, 4: 1010, 5: 988, 6: 1008, 7: 1026, 8: 987, 9: 985}\n",
      "First 20 Labels: [1, 6, 6, 8, 8, 3, 4, 6, 0, 6, 0, 3, 6, 6, 5, 4, 8, 3, 2, 6]\n",
      "\n",
      "Example of Image 10:\n",
      "Image - Min Value: 4 Max Value: 231\n",
      "Image - Shape: (32, 32, 3)\n",
      "Label - Label Id: 0 Name: airplane\n"
     ]
    },
    {
     "data": {
      "image/png": "[encoded data removed]",
      "text/plain": [
       "<matplotlib.figure.Figure at 0x7f141ef1a9b0>"
      ]
     },
     "metadata": {
      "image/png": {
       "height": 250,
       "width": 253
      }
     },
     "output_type": "display_data"
    }
   ],
   "source": [
    "%matplotlib inline\n",
    "%config InlineBackend.figure_format = 'retina'\n",
    "\n",
    "import helper\n",
    "import numpy as np\n",
    "\n",
    "# Explore the dataset\n",
    "batch_id = 2\n",
    "sample_id = 10\n",
    "helper.display_stats(cifar10_dataset_folder_path, batch_id, sample_id)"
   ]
  },
  {
   "cell_type": "markdown",
   "metadata": {},
   "source": [
    "All the possible labels are numbers from 0 to 9, from zero corresponding to images of airplanes and 9 to pictures of trucks. The range of values for the image is from 0 to 255 (typical for RGB images) and the labels are random."
   ]
  },
  {
   "cell_type": "markdown",
   "metadata": {},
   "source": [
    "## Implement Preprocess Functions\n",
    "### Normalize\n",
    "In the cell below, implement the `normalize` function to take in image data, `x`, and return it as a normalized Numpy array. The values should be in the range of 0 to 1, inclusive.  The return object should be the same shape as `x`."
   ]
  },
  {
   "cell_type": "code",
   "execution_count": 3,
   "metadata": {},
   "outputs": [
    {
     "name": "stdout",
     "output_type": "stream",
     "text": [
      "Tests Passed\n"
     ]
    }
   ],
   "source": [
    "def normalize(x):\n",
    "    \"\"\"\n",
    "    Normalize a list of sample image data in the range of 0 to 1\n",
    "    : x: List of image data.  The image shape is (32, 32, 3)\n",
    "    : return: Numpy array of normalize data\n",
    "    \"\"\"\n",
    "    # Definine the max and min values of the image (faster this way than looking for them inside the array)\n",
    "    xMin = 0.\n",
    "    xMax = 255.\n",
    "    # Define the new max and min values\n",
    "    nMax = 1.\n",
    "    nMin = 0.\n",
    "    # Convert the input to a numpy array\n",
    "    x_np = np.array(x)\n",
    "    # Apply transform\n",
    "    x_np = (x_np - xMin)*(nMax - nMin)/(xMax - xMin) + nMin\n",
    "    return x_np\n",
    "\n",
    "\n",
    "\"\"\"\n",
    "DON'T MODIFY ANYTHING IN THIS CELL THAT IS BELOW THIS LINE\n",
    "\"\"\"\n",
    "tests.test_normalize(normalize)"
   ]
  },
  {
   "cell_type": "markdown",
   "metadata": {},
   "source": [
    "### One-hot encode\n",
    "Just like the previous code cell, you'll be implementing a function for preprocessing.  This time, you'll implement the `one_hot_encode` function. The input, `x`, are a list of labels.  Implement the function to return the list of labels as One-Hot encoded Numpy array.  The possible values for labels are 0 to 9. The one-hot encoding function should return the same encoding for each value between each call to `one_hot_encode`.  Make sure to save the map of encodings outside the function.\n",
    "\n",
    "Hint: Don't reinvent the wheel."
   ]
  },
  {
   "cell_type": "code",
   "execution_count": 4,
   "metadata": {},
   "outputs": [
    {
     "name": "stdout",
     "output_type": "stream",
     "text": [
      "Tests Passed\n"
     ]
    }
   ],
   "source": [
    "from sklearn.preprocessing import LabelBinarizer \n",
    "def one_hot_encode(x):\n",
    "    \"\"\"\n",
    "    One hot encode a list of sample labels. Return a one-hot encoded vector for each label.\n",
    "    : x: List of sample Labels\n",
    "    : return: Numpy array of one-hot encoded labels\n",
    "    \"\"\"\n",
    "    # The size of the vector to one encode\n",
    "    encoding_size = 10\n",
    "    # Use the sklearn library to one encode our incoming vector (taking it outside the function \n",
    "    # can be more efficient)\n",
    "    encoder = LabelBinarizer().fit(np.arange(encoding_size, dtype=np.float32))\n",
    "    return encoder.transform(x)\n",
    "\n",
    "\n",
    "\"\"\"\n",
    "DON'T MODIFY ANYTHING IN THIS CELL THAT IS BELOW THIS LINE\n",
    "\"\"\"\n",
    "tests.test_one_hot_encode(one_hot_encode)"
   ]
  },
  {
   "cell_type": "markdown",
   "metadata": {},
   "source": [
    "### Randomize Data\n",
    "As you saw from exploring the data above, the order of the samples are randomized.  It doesn't hurt to randomize it again, but you don't need to for this dataset."
   ]
  },
  {
   "cell_type": "markdown",
   "metadata": {},
   "source": [
    "## Preprocess all the data and save it\n",
    "Running the code cell below will preprocess all the CIFAR-10 data and save it to file. The code below also uses 10% of the training data for validation."
   ]
  },
  {
   "cell_type": "code",
   "execution_count": 5,
   "metadata": {
    "collapsed": true
   },
   "outputs": [],
   "source": [
    "\"\"\"\n",
    "DON'T MODIFY ANYTHING IN THIS CELL\n",
    "\"\"\"\n",
    "# Preprocess Training, Validation, and Testing Data\n",
    "helper.preprocess_and_save_data(cifar10_dataset_folder_path, normalize, one_hot_encode)"
   ]
  },
  {
   "cell_type": "markdown",
   "metadata": {},
   "source": [
    "# Check Point\n",
    "This is your first checkpoint.  If you ever decide to come back to this notebook or have to restart the notebook, you can start from here.  The preprocessed data has been saved to disk."
   ]
  },
  {
   "cell_type": "code",
   "execution_count": 6,
   "metadata": {
    "collapsed": true
   },
   "outputs": [],
   "source": [
    "\"\"\"\n",
    "DON'T MODIFY ANYTHING IN THIS CELL\n",
    "\"\"\"\n",
    "import pickle\n",
    "import problem_unittests as tests\n",
    "import helper\n",
    "\n",
    "# Load the Preprocessed Validation data\n",
    "valid_features, valid_labels = pickle.load(open('preprocess_validation.p', mode='rb'))"
   ]
  },
  {
   "cell_type": "markdown",
   "metadata": {},
   "source": [
    "## Build the network\n",
    "For the neural network, you'll build each layer into a function.  Most of the code you've seen has been outside of functions. To test your code more thoroughly, we require that you put each layer in a function.  This allows us to give you better feedback and test for simple mistakes using our unittests before you submit your project.\n",
    "\n",
    ">**Note:** If you're finding it hard to dedicate enough time for this course each week, we've provided a small shortcut to this part of the project. In the next couple of problems, you'll have the option to use classes from the [TensorFlow Layers](https://www.tensorflow.org/api_docs/python/tf/layers) or [TensorFlow Layers (contrib)](https://www.tensorflow.org/api_guides/python/contrib.layers) packages to build each layer, except the layers you build in the \"Convolutional and Max Pooling Layer\" section.  TF Layers is similar to Keras's and TFLearn's abstraction to layers, so it's easy to pickup.\n",
    "\n",
    ">However, if you would like to get the most out of this course, try to solve all the problems _without_ using anything from the TF Layers packages. You **can** still use classes from other packages that happen to have the same name as ones you find in TF Layers! For example, instead of using the TF Layers version of the `conv2d` class, [tf.layers.conv2d](https://www.tensorflow.org/api_docs/python/tf/layers/conv2d), you would want to use the TF Neural Network version of `conv2d`, [tf.nn.conv2d](https://www.tensorflow.org/api_docs/python/tf/nn/conv2d). \n",
    "\n",
    "Let's begin!\n",
    "\n",
    "### Input\n",
    "The neural network needs to read the image data, one-hot encoded labels, and dropout keep probability. Implement the following functions\n",
    "* Implement `neural_net_image_input`\n",
    " * Return a [TF Placeholder](https://www.tensorflow.org/api_docs/python/tf/placeholder)\n",
    " * Set the shape using `image_shape` with batch size set to `None`.\n",
    " * Name the TensorFlow placeholder \"x\" using the TensorFlow `name` parameter in the [TF Placeholder](https://www.tensorflow.org/api_docs/python/tf/placeholder).\n",
    "* Implement `neural_net_label_input`\n",
    " * Return a [TF Placeholder](https://www.tensorflow.org/api_docs/python/tf/placeholder)\n",
    " * Set the shape using `n_classes` with batch size set to `None`.\n",
    " * Name the TensorFlow placeholder \"y\" using the TensorFlow `name` parameter in the [TF Placeholder](https://www.tensorflow.org/api_docs/python/tf/placeholder).\n",
    "* Implement `neural_net_keep_prob_input`\n",
    " * Return a [TF Placeholder](https://www.tensorflow.org/api_docs/python/tf/placeholder) for dropout keep probability.\n",
    " * Name the TensorFlow placeholder \"keep_prob\" using the TensorFlow `name` parameter in the [TF Placeholder](https://www.tensorflow.org/api_docs/python/tf/placeholder).\n",
    "\n",
    "These names will be used at the end of the project to load your saved model.\n",
    "\n",
    "Note: `None` for shapes in TensorFlow allow for a dynamic size."
   ]
  },
  {
   "cell_type": "code",
   "execution_count": 7,
   "metadata": {},
   "outputs": [
    {
     "name": "stdout",
     "output_type": "stream",
     "text": [
      "Image Input Tests Passed.\n",
      "Label Input Tests Passed.\n",
      "Keep Prob Tests Passed.\n"
     ]
    }
   ],
   "source": [
    "import tensorflow as tf\n",
    "\n",
    "def neural_net_image_input(image_shape):\n",
    "    \"\"\"\n",
    "    Return a Tensor for a batch of image input\n",
    "    : image_shape: Shape of the images\n",
    "    : return: Tensor for image input.\n",
    "    \"\"\"\n",
    "    return tf.placeholder(tf.float32, shape=[None, image_shape[0], image_shape[1], image_shape[2]], name='x')\n",
    "\n",
    "\n",
    "def neural_net_label_input(n_classes):\n",
    "    \"\"\"\n",
    "    Return a Tensor for a batch of label input\n",
    "    : n_classes: Number of classes\n",
    "    : return: Tensor for label input.\n",
    "    \"\"\"\n",
    "    return tf.placeholder(tf.float32, shape=[None, n_classes], name='y')\n",
    "\n",
    "\n",
    "def neural_net_keep_prob_input():\n",
    "    \"\"\"\n",
    "    Return a Tensor for keep probability\n",
    "    : return: Tensor for keep probability.\n",
    "    \"\"\"\n",
    "    return tf.placeholder(tf.float32, name='keep_prob')\n",
    "\n",
    "\n",
    "\"\"\"\n",
    "DON'T MODIFY ANYTHING IN THIS CELL THAT IS BELOW THIS LINE\n",
    "\"\"\"\n",
    "tf.reset_default_graph()\n",
    "tests.test_nn_image_inputs(neural_net_image_input)\n",
    "tests.test_nn_label_inputs(neural_net_label_input)\n",
    "tests.test_nn_keep_prob_inputs(neural_net_keep_prob_input)"
   ]
  },
  {
   "cell_type": "markdown",
   "metadata": {},
   "source": [
    "### Convolution and Max Pooling Layer\n",
    "Convolution layers have a lot of success with images. For this code cell, you should implement the function `conv2d_maxpool` to apply convolution then max pooling:\n",
    "* Create the weight and bias using `conv_ksize`, `conv_num_outputs` and the shape of `x_tensor`.\n",
    "* Apply a convolution to `x_tensor` using weight and `conv_strides`.\n",
    " * We recommend you use same padding, but you're welcome to use any padding.\n",
    "* Add bias\n",
    "* Add a nonlinear activation to the convolution.\n",
    "* Apply Max Pooling using `pool_ksize` and `pool_strides`.\n",
    " * We recommend you use same padding, but you're welcome to use any padding.\n",
    "\n",
    "**Note:** You **can't** use [TensorFlow Layers](https://www.tensorflow.org/api_docs/python/tf/layers) or [TensorFlow Layers (contrib)](https://www.tensorflow.org/api_guides/python/contrib.layers) for **this** layer, but you can still use TensorFlow's [Neural Network](https://www.tensorflow.org/api_docs/python/tf/nn) package. You may still use the shortcut option for all the **other** layers."
   ]
  },
  {
   "cell_type": "code",
   "execution_count": 8,
   "metadata": {},
   "outputs": [
    {
     "name": "stdout",
     "output_type": "stream",
     "text": [
      "Tests Passed\n"
     ]
    }
   ],
   "source": [
    "def conv2d_maxpool(x_tensor, conv_num_outputs, conv_ksize, conv_strides, pool_ksize, pool_strides):\n",
    "    \"\"\"\n",
    "    Apply convolution then max pooling to x_tensor\n",
    "    :param x_tensor: TensorFlow Tensor\n",
    "    :param conv_num_outputs: Number of outputs for the convolutional layer\n",
    "    :param conv_ksize: kernal size 2-D Tuple for the convolutional layer\n",
    "    :param conv_strides: Stride 2-D Tuple for convolution\n",
    "    :param pool_ksize: kernal size 2-D Tuple for pool\n",
    "    :param pool_strides: Stride 2-D Tuple for pool\n",
    "    : return: A tensor that represents convolution and max pooling of x_tensor\n",
    "    \"\"\"\n",
    "    # Grab the shape for the input tensor\n",
    "    iheight = int(x_tensor.shape[1])\n",
    "    iwidth = int(x_tensor.shape[2])\n",
    "    idepth = int(x_tensor.shape[3])\n",
    "    # Grab the shape for the convolutional filter (kernel)\n",
    "    fheight = conv_ksize[0]\n",
    "    fwidth = conv_ksize[1]\n",
    "    # Define the padding, lets leave it in Same for now\n",
    "    padding = 'SAME'\n",
    "    # Create the strides vector for the convolution\n",
    "    conv_strides_vector = [1, conv_strides[0], conv_strides[1], 1]\n",
    "    # Create the pooling size vector\n",
    "    pool_ksize_vector = [1, pool_ksize[0], pool_ksize[1], 1]\n",
    "    # Create the pooling strides vector\n",
    "    pool_strides_vector = [1, pool_strides[0], pool_strides[1], 1]\n",
    "    # Initialize the weights of the filter to be from a truncated distribution\n",
    "    filter_weigths = tf.Variable(tf.truncated_normal(shape=[fheight, fwidth, idepth, conv_num_outputs], stddev=0.05))\n",
    "    # Add the bias\n",
    "    filter_bias = tf.Variable(tf.zeros(conv_num_outputs))\n",
    "    # Create the convolution layer\n",
    "    conv_layer = tf.nn.conv2d(x_tensor, filter_weigths, strides=conv_strides_vector, padding=padding)\n",
    "    # Add the bias\n",
    "    conv_layer = tf.nn.bias_add(conv_layer, filter_bias)\n",
    "    # Apply the non linearity\n",
    "    conv_layer = tf.nn.relu(conv_layer)\n",
    "    # Add The maxpooling layer\n",
    "    conv_layer = tf.nn.max_pool(conv_layer, ksize=pool_ksize_vector, strides=pool_strides_vector, padding=padding)\n",
    "    return conv_layer \n",
    "\n",
    "\n",
    "\"\"\"\n",
    "DON'T MODIFY ANYTHING IN THIS CELL THAT IS BELOW THIS LINE\n",
    "\"\"\"\n",
    "tests.test_con_pool(conv2d_maxpool)"
   ]
  },
  {
   "cell_type": "markdown",
   "metadata": {},
   "source": [
    "### Flatten Layer\n",
    "Implement the `flatten` function to change the dimension of `x_tensor` from a 4-D tensor to a 2-D tensor.  The output should be the shape (*Batch Size*, *Flattened Image Size*). Shortcut option: you can use classes from the [TensorFlow Layers](https://www.tensorflow.org/api_docs/python/tf/layers) or [TensorFlow Layers (contrib)](https://www.tensorflow.org/api_guides/python/contrib.layers) packages for this layer. For more of a challenge, only use other TensorFlow packages."
   ]
  },
  {
   "cell_type": "code",
   "execution_count": 9,
   "metadata": {},
   "outputs": [
    {
     "name": "stdout",
     "output_type": "stream",
     "text": [
      "Tests Passed\n"
     ]
    }
   ],
   "source": [
    "def flatten(x_tensor):\n",
    "    \"\"\"\n",
    "    Flatten x_tensor to (Batch Size, Flattened Image Size)\n",
    "    : x_tensor: A tensor of size (Batch Size, ...), where ... are the image dimensions.\n",
    "    : return: A tensor of size (Batch Size, Flattened Image Size).\n",
    "    \"\"\"\n",
    "    # Grab the shape for the input tensor\n",
    "    iheight = int(x_tensor.shape[1])\n",
    "    iwidth = int(x_tensor.shape[2])\n",
    "    idepth = int(x_tensor.shape[3])\n",
    "    # Calculate the size of the flattened image\n",
    "    flattened = iheight*iwidth*idepth\n",
    "    # reshape the 4d tensor to a 2d tensor\n",
    "    return tf.reshape(x_tensor,[-1, flattened])\n",
    "    \n",
    "\"\"\"\n",
    "DON'T MODIFY ANYTHING IN THIS CELL THAT IS BELOW THIS LINE\n",
    "\"\"\"\n",
    "tests.test_flatten(flatten)"
   ]
  },
  {
   "cell_type": "markdown",
   "metadata": {},
   "source": [
    "### Fully-Connected Layer\n",
    "Implement the `fully_conn` function to apply a fully connected layer to `x_tensor` with the shape (*Batch Size*, *num_outputs*). Shortcut option: you can use classes from the [TensorFlow Layers](https://www.tensorflow.org/api_docs/python/tf/layers) or [TensorFlow Layers (contrib)](https://www.tensorflow.org/api_guides/python/contrib.layers) packages for this layer. For more of a challenge, only use other TensorFlow packages."
   ]
  },
  {
   "cell_type": "code",
   "execution_count": 10,
   "metadata": {},
   "outputs": [
    {
     "name": "stdout",
     "output_type": "stream",
     "text": [
      "Tests Passed\n"
     ]
    }
   ],
   "source": [
    "def fully_conn(x_tensor, num_outputs):\n",
    "    \"\"\"\n",
    "    Apply a fully connected layer to x_tensor using weight and bias\n",
    "    : x_tensor: A 2-D tensor where the first dimension is batch size.\n",
    "    : num_outputs: The number of output that the new tensor should be.\n",
    "    : return: A 2-D tensor where the second dimension is num_outputs.\n",
    "    \"\"\"\n",
    "    # Get the width of the inputs\n",
    "    iwidth = int(x_tensor.get_shape()[1])\n",
    "    # Initialize the weights of the fully connected layer\n",
    "    layer_weigths = tf.Variable(tf.truncated_normal(shape=[iwidth, num_outputs], stddev=0.05))\n",
    "    #Initialize the biases to be zero for the fully connected layer\n",
    "    layer_bias = tf.Variable(tf.zeros(num_outputs))\n",
    "    # Define the layer's output\n",
    "    layer_out = tf.nn.relu(tf.add(tf.matmul(x_tensor, layer_weigths), layer_bias))\n",
    "    return layer_out\n",
    "\n",
    "\n",
    "\"\"\"\n",
    "DON'T MODIFY ANYTHING IN THIS CELL THAT IS BELOW THIS LINE\n",
    "\"\"\"\n",
    "tests.test_fully_conn(fully_conn)"
   ]
  },
  {
   "cell_type": "markdown",
   "metadata": {},
   "source": [
    "### Output Layer\n",
    "Implement the `output` function to apply a fully connected layer to `x_tensor` with the shape (*Batch Size*, *num_outputs*). Shortcut option: you can use classes from the [TensorFlow Layers](https://www.tensorflow.org/api_docs/python/tf/layers) or [TensorFlow Layers (contrib)](https://www.tensorflow.org/api_guides/python/contrib.layers) packages for this layer. For more of a challenge, only use other TensorFlow packages.\n",
    "\n",
    "**Note:** Activation, softmax, or cross entropy should **not** be applied to this."
   ]
  },
  {
   "cell_type": "code",
   "execution_count": 11,
   "metadata": {},
   "outputs": [
    {
     "name": "stdout",
     "output_type": "stream",
     "text": [
      "Tests Passed\n"
     ]
    }
   ],
   "source": [
    "def output(x_tensor, num_outputs):\n",
    "    \"\"\"\n",
    "    Apply a output layer to x_tensor using weight and bias\n",
    "    : x_tensor: A 2-D tensor where the first dimension is batch size.\n",
    "    : num_outputs: The number of output that the new tensor should be.\n",
    "    : return: A 2-D tensor where the second dimension is num_outputs.\n",
    "    \"\"\"\n",
    "    # Get the width of the inputs\n",
    "    iwidth = int(x_tensor.get_shape()[1])\n",
    "    # Initialize the weights of the fully connected layer\n",
    "    layer_weigths = tf.Variable(tf.truncated_normal(shape=[iwidth, num_outputs], stddev=0.05))\n",
    "    #Initialize the biases to be zero for the fully connected layer\n",
    "    layer_bias = tf.Variable(tf.zeros(num_outputs))\n",
    "    # Define the layer's output\n",
    "    layer_output = tf.add(tf.matmul(x_tensor, layer_weigths), layer_bias)\n",
    "    return layer_output\n",
    "\n",
    "\n",
    "\"\"\"\n",
    "DON'T MODIFY ANYTHING IN THIS CELL THAT IS BELOW THIS LINE\n",
    "\"\"\"\n",
    "tests.test_output(output)"
   ]
  },
  {
   "cell_type": "markdown",
   "metadata": {},
   "source": [
    "### Create Convolutional Model\n",
    "Implement the function `conv_net` to create a convolutional neural network model. The function takes in a batch of images, `x`, and outputs logits.  Use the layers you created above to create this model:\n",
    "\n",
    "* Apply 1, 2, or 3 Convolution and Max Pool layers\n",
    "* Apply a Flatten Layer\n",
    "* Apply 1, 2, or 3 Fully Connected Layers\n",
    "* Apply an Output Layer\n",
    "* Return the output\n",
    "* Apply [TensorFlow's Dropout](https://www.tensorflow.org/api_docs/python/tf/nn/dropout) to one or more layers in the model using `keep_prob`. "
   ]
  },
  {
   "cell_type": "code",
   "execution_count": 46,
   "metadata": {},
   "outputs": [
    {
     "name": "stdout",
     "output_type": "stream",
     "text": [
      "Neural Network Built!\n"
     ]
    }
   ],
   "source": [
    "from math import ceil\n",
    "def conv_net(x, keep_prob):\n",
    "    \"\"\"\n",
    "    Create a convolutional neural network model\n",
    "    : x: Placeholder tensor that holds image data.\n",
    "    : keep_prob: Placeholder tensor that hold dropout keep probability.\n",
    "    : return: Tensor that represents logits\n",
    "    \"\"\"\n",
    "    # Define parameters for the first convolutional layer\n",
    "    first_conv_output = 32\n",
    "    first_conv_ksize = [4, 4]\n",
    "    first_conv_strides = [1, 1]\n",
    "    first_pool_ksize=[3, 3]\n",
    "    first_pool_strides = [2, 2]\n",
    "    \n",
    "    # Define parameters for the second convolutional layer\n",
    "    second_conv_output = 16\n",
    "    second_conv_ksize = [4, 4]\n",
    "    second_conv_strides = [1, 1]\n",
    "    second_pool_ksize=[3, 3]\n",
    "    second_pool_strides = [2, 2]\n",
    "    \n",
    "    # Parameters for the fully connected layers\n",
    "    fconnected_size_1 = 128\n",
    "    fconnected_size_2 = 64\n",
    "    \n",
    "    num_outputs = 10\n",
    "    \n",
    "    # First Layer\n",
    "    first_conv_layer = conv2d_maxpool(x, \n",
    "                                      first_conv_output, \n",
    "                                      first_conv_ksize, \n",
    "                                      first_conv_strides, \n",
    "                                      first_pool_ksize, \n",
    "                                      first_pool_strides)\n",
    "    # Second Layer\n",
    "    second_conv_layer = conv2d_maxpool(first_conv_layer, \n",
    "                                      second_conv_output, \n",
    "                                      second_conv_ksize, \n",
    "                                      second_conv_strides, \n",
    "                                      second_pool_ksize, \n",
    "                                      second_pool_strides)\n",
    "    \n",
    "    # Prepare for flattening\n",
    "    last_conv_layer = second_conv_layer\n",
    "    # Do flattening\n",
    "    flattened_layer = flatten(last_conv_layer)\n",
    "    # First fully connected layer\n",
    "    fully_connected_layer_1 = fully_conn(flattened_layer, fconnected_size_1)\n",
    "    # Second fully connected layer\n",
    "    fully_connected_layer_2 = fully_conn(fully_connected_layer_1, fconnected_size_2)\n",
    "    # Ouput layer\n",
    "    last_output = output(fully_connected_layer_1, num_outputs)\n",
    "    return last_output\n",
    "\n",
    "\n",
    "\"\"\"\n",
    "DON'T MODIFY ANYTHING IN THIS CELL THAT IS BELOW THIS LINE\n",
    "\"\"\"\n",
    "\n",
    "##############################\n",
    "## Build the Neural Network ##\n",
    "##############################\n",
    "\n",
    "# Remove previous weights, bias, inputs, etc..\n",
    "tf.reset_default_graph()\n",
    "\n",
    "# Inputs\n",
    "x = neural_net_image_input((32, 32, 3))\n",
    "y = neural_net_label_input(10)\n",
    "keep_prob = neural_net_keep_prob_input()\n",
    "\n",
    "# Model\n",
    "logits = conv_net(x, keep_prob)\n",
    "\n",
    "# Name logits Tensor, so that is can be loaded from disk after training\n",
    "logits = tf.identity(logits, name='logits')\n",
    "\n",
    "# Loss and Optimizer\n",
    "cost = tf.reduce_mean(tf.nn.softmax_cross_entropy_with_logits(logits=logits, labels=y))\n",
    "optimizer = tf.train.AdamOptimizer().minimize(cost)\n",
    "\n",
    "# Accuracy\n",
    "correct_pred = tf.equal(tf.argmax(logits, 1), tf.argmax(y, 1))\n",
    "accuracy = tf.reduce_mean(tf.cast(correct_pred, tf.float32), name='accuracy')\n",
    "\n",
    "tests.test_conv_net(conv_net)"
   ]
  },
  {
   "cell_type": "markdown",
   "metadata": {},
   "source": [
    "## Train the Neural Network\n",
    "### Single Optimization\n",
    "Implement the function `train_neural_network` to do a single optimization.  The optimization should use `optimizer` to optimize in `session` with a `feed_dict` of the following:\n",
    "* `x` for image input\n",
    "* `y` for labels\n",
    "* `keep_prob` for keep probability for dropout\n",
    "\n",
    "This function will be called for each batch, so `tf.global_variables_initializer()` has already been called.\n",
    "\n",
    "Note: Nothing needs to be returned. This function is only optimizing the neural network."
   ]
  },
  {
   "cell_type": "code",
   "execution_count": 47,
   "metadata": {},
   "outputs": [
    {
     "name": "stdout",
     "output_type": "stream",
     "text": [
      "Tests Passed\n"
     ]
    }
   ],
   "source": [
    "def train_neural_network(session, optimizer, keep_probability, feature_batch, label_batch):\n",
    "    \"\"\"\n",
    "    Optimize the session on a batch of images and labels\n",
    "    : session: Current TensorFlow session\n",
    "    : optimizer: TensorFlow optimizer function\n",
    "    : keep_probability: keep probability\n",
    "    : feature_batch: Batch of Numpy image data\n",
    "    : label_batch: Batch of Numpy label data\n",
    "    \"\"\"\n",
    "    # Create the feeding dictionary for trainning\n",
    "    f_dict = {x: feature_batch, y: label_batch, keep_prob: keep_probability}\n",
    "    session.run(optimizer, feed_dict=f_dict)\n",
    "\n",
    "\n",
    "\"\"\"\n",
    "DON'T MODIFY ANYTHING IN THIS CELL THAT IS BELOW THIS LINE\n",
    "\"\"\"\n",
    "tests.test_train_nn(train_neural_network)"
   ]
  },
  {
   "cell_type": "markdown",
   "metadata": {},
   "source": [
    "### Show Stats\n",
    "Implement the function `print_stats` to print loss and validation accuracy.  Use the global variables `valid_features` and `valid_labels` to calculate validation accuracy.  Use a keep probability of `1.0` to calculate the loss and validation accuracy."
   ]
  },
  {
   "cell_type": "code",
   "execution_count": 48,
   "metadata": {
    "collapsed": true
   },
   "outputs": [],
   "source": [
    "def print_stats(session, feature_batch, label_batch, cost, accuracy):\n",
    "    \"\"\"\n",
    "    Print information about loss and validation accuracy\n",
    "    : session: Current TensorFlow session\n",
    "    : feature_batch: Batch of Numpy image data\n",
    "    : label_batch: Batch of Numpy label data\n",
    "    : cost: TensorFlow cost function\n",
    "    : accuracy: TensorFlow accuracy function\n",
    "    \"\"\"\n",
    "    pt_loss = session.run(cost,\n",
    "                       feed_dict={\n",
    "                           x: feature_batch, \n",
    "                           y: label_batch,\n",
    "                           keep_prob: 1.0})\n",
    "    \n",
    "    pt_accuracy= session.run(accuracy,\n",
    "                             feed_dict={\n",
    "                                 x: feature_batch, \n",
    "                                 y: label_batch,\n",
    "                                 keep_prob: 1.0})\n",
    "    \n",
    "    \n",
    "    pv_loss = session.run(cost,\n",
    "                          feed_dict={\n",
    "                              x: valid_features,\n",
    "                              y: valid_labels,\n",
    "                              keep_prob: 1.0})\n",
    "    \n",
    "    pv_accuracy = session.run(accuracy,\n",
    "                       feed_dict={\n",
    "                           x: valid_features, \n",
    "                           y: valid_labels,\n",
    "                           keep_prob: 1.0})\n",
    "    print('Tr Loss/Acc: {:0.4f}/{:0.4f} and Val Loss/Acc {:0.4f}/{:0.4f}'.format(pt_loss, pt_accuracy, pv_loss, pv_accuracy))"
   ]
  },
  {
   "cell_type": "markdown",
   "metadata": {},
   "source": [
    "### Hyperparameters\n",
    "Tune the following parameters:\n",
    "* Set `epochs` to the number of iterations until the network stops learning or start overfitting\n",
    "* Set `batch_size` to the highest number that your machine has memory for.  Most people set them to common sizes of memory:\n",
    " * 64\n",
    " * 128\n",
    " * 256\n",
    " * ...\n",
    "* Set `keep_probability` to the probability of keeping a node using dropout"
   ]
  },
  {
   "cell_type": "code",
   "execution_count": 55,
   "metadata": {
    "collapsed": true
   },
   "outputs": [],
   "source": [
    "# TODO: Tune Parameters\n",
    "epochs = 35\n",
    "batch_size = 2048\n",
    "keep_probability = 0.55"
   ]
  },
  {
   "cell_type": "markdown",
   "metadata": {},
   "source": [
    "### Train on a Single CIFAR-10 Batch\n",
    "Instead of training the neural network on all the CIFAR-10 batches of data, let's use a single batch. This should save time while you iterate on the model to get a better accuracy.  Once the final validation accuracy is 50% or greater, run the model on all the data in the next section."
   ]
  },
  {
   "cell_type": "code",
   "execution_count": 56,
   "metadata": {},
   "outputs": [
    {
     "name": "stdout",
     "output_type": "stream",
     "text": [
      "Checking the Training on a Single Batch...\n",
      "Epoch  1, CIFAR-10 Batch 1:  Tr Loss/Acc: 2.3458/0.1176 and Val Loss/Acc 2.3428/0.1098\n",
      "Epoch  2, CIFAR-10 Batch 1:  Tr Loss/Acc: 2.2620/0.1460 and Val Loss/Acc 2.2575/0.1522\n",
      "Epoch  3, CIFAR-10 Batch 1:  Tr Loss/Acc: 2.1969/0.1968 and Val Loss/Acc 2.1905/0.2178\n",
      "Epoch  4, CIFAR-10 Batch 1:  Tr Loss/Acc: 2.0958/0.2710 and Val Loss/Acc 2.1057/0.2692\n",
      "Epoch  5, CIFAR-10 Batch 1:  Tr Loss/Acc: 1.9789/0.3082 and Val Loss/Acc 1.9899/0.3052\n",
      "Epoch  6, CIFAR-10 Batch 1:  Tr Loss/Acc: 1.8693/0.3552 and Val Loss/Acc 1.8835/0.3358\n",
      "Epoch  7, CIFAR-10 Batch 1:  Tr Loss/Acc: 1.7989/0.3812 and Val Loss/Acc 1.8128/0.3626\n",
      "Epoch  8, CIFAR-10 Batch 1:  Tr Loss/Acc: 1.7304/0.4084 and Val Loss/Acc 1.7514/0.3820\n",
      "Epoch  9, CIFAR-10 Batch 1:  Tr Loss/Acc: 1.6713/0.4220 and Val Loss/Acc 1.6942/0.3978\n",
      "Epoch 10, CIFAR-10 Batch 1:  Tr Loss/Acc: 1.6219/0.4517 and Val Loss/Acc 1.6476/0.4148\n",
      "Epoch 11, CIFAR-10 Batch 1:  Tr Loss/Acc: 1.5752/0.4616 and Val Loss/Acc 1.6094/0.4328\n",
      "Epoch 12, CIFAR-10 Batch 1:  Tr Loss/Acc: 1.5314/0.4814 and Val Loss/Acc 1.5755/0.4484\n",
      "Epoch 13, CIFAR-10 Batch 1:  Tr Loss/Acc: 1.4928/0.4988 and Val Loss/Acc 1.5470/0.4566\n",
      "Epoch 14, CIFAR-10 Batch 1:  Tr Loss/Acc: 1.4550/0.5111 and Val Loss/Acc 1.5212/0.4668\n",
      "Epoch 15, CIFAR-10 Batch 1:  Tr Loss/Acc: 1.4144/0.5136 and Val Loss/Acc 1.4962/0.4724\n",
      "Epoch 16, CIFAR-10 Batch 1:  Tr Loss/Acc: 1.3732/0.5235 and Val Loss/Acc 1.4696/0.4802\n",
      "Epoch 17, CIFAR-10 Batch 1:  Tr Loss/Acc: 1.3396/0.5433 and Val Loss/Acc 1.4538/0.4846\n",
      "Epoch 18, CIFAR-10 Batch 1:  Tr Loss/Acc: 1.3064/0.5532 and Val Loss/Acc 1.4332/0.4904\n",
      "Epoch 19, CIFAR-10 Batch 1:  Tr Loss/Acc: 1.2706/0.5594 and Val Loss/Acc 1.4101/0.4990\n",
      "Epoch 20, CIFAR-10 Batch 1:  Tr Loss/Acc: 1.2548/0.5582 and Val Loss/Acc 1.4023/0.5046\n",
      "Epoch 21, CIFAR-10 Batch 1:  Tr Loss/Acc: 1.2207/0.5780 and Val Loss/Acc 1.3839/0.5082\n",
      "Epoch 22, CIFAR-10 Batch 1:  Tr Loss/Acc: 1.1926/0.5978 and Val Loss/Acc 1.3663/0.5162\n",
      "Epoch 23, CIFAR-10 Batch 1:  Tr Loss/Acc: 1.1778/0.5916 and Val Loss/Acc 1.3621/0.5196\n",
      "Epoch 24, CIFAR-10 Batch 1:  Tr Loss/Acc: 1.1515/0.6089 and Val Loss/Acc 1.3442/0.5268\n",
      "Epoch 25, CIFAR-10 Batch 1:  Tr Loss/Acc: 1.1368/0.6200 and Val Loss/Acc 1.3411/0.5258\n",
      "Epoch 26, CIFAR-10 Batch 1:  Tr Loss/Acc: 1.1150/0.6300 and Val Loss/Acc 1.3242/0.5342\n",
      "Epoch 27, CIFAR-10 Batch 1:  Tr Loss/Acc: 1.0999/0.6448 and Val Loss/Acc 1.3217/0.5350\n",
      "Epoch 28, CIFAR-10 Batch 1:  Tr Loss/Acc: 1.0801/0.6423 and Val Loss/Acc 1.3115/0.5400\n",
      "Epoch 29, CIFAR-10 Batch 1:  Tr Loss/Acc: 1.0649/0.6584 and Val Loss/Acc 1.3065/0.5452\n",
      "Epoch 30, CIFAR-10 Batch 1:  Tr Loss/Acc: 1.0465/0.6584 and Val Loss/Acc 1.2983/0.5456\n",
      "Epoch 31, CIFAR-10 Batch 1:  Tr Loss/Acc: 1.0280/0.6683 and Val Loss/Acc 1.2907/0.5456\n",
      "Epoch 32, CIFAR-10 Batch 1:  Tr Loss/Acc: 1.0089/0.6696 and Val Loss/Acc 1.2823/0.5496\n",
      "Epoch 33, CIFAR-10 Batch 1:  Tr Loss/Acc: 0.9963/0.6708 and Val Loss/Acc 1.2790/0.5530\n",
      "Epoch 34, CIFAR-10 Batch 1:  Tr Loss/Acc: 0.9848/0.6720 and Val Loss/Acc 1.2806/0.5484\n",
      "Epoch 35, CIFAR-10 Batch 1:  Tr Loss/Acc: 0.9885/0.6671 and Val Loss/Acc 1.3023/0.5394\n"
     ]
    }
   ],
   "source": [
    "\"\"\"\n",
    "DON'T MODIFY ANYTHING IN THIS CELL\n",
    "\"\"\"\n",
    "print('Checking the Training on a Single Batch...')\n",
    "with tf.Session() as sess:\n",
    "    # Initializing the variables\n",
    "    sess.run(tf.global_variables_initializer())\n",
    "    \n",
    "    # Training cycle\n",
    "    for epoch in range(epochs):\n",
    "        batch_i = 1\n",
    "        for batch_features, batch_labels in helper.load_preprocess_training_batch(batch_i, batch_size):\n",
    "            train_neural_network(sess, optimizer, keep_probability, batch_features, batch_labels)\n",
    "        print('Epoch {:>2}, CIFAR-10 Batch {}:  '.format(epoch + 1, batch_i), end='')\n",
    "        print_stats(sess, batch_features, batch_labels, cost, accuracy)"
   ]
  },
  {
   "cell_type": "markdown",
   "metadata": {},
   "source": [
    "### Fully Train the Model\n",
    "Now that you got a good accuracy with a single CIFAR-10 batch, try it with all five batches."
   ]
  },
  {
   "cell_type": "code",
   "execution_count": 57,
   "metadata": {},
   "outputs": [
    {
     "name": "stdout",
     "output_type": "stream",
     "text": [
      "Training...\n",
      "Epoch  1, CIFAR-10 Batch 1:  Tr Loss/Acc: 2.2527/0.1757 and Val Loss/Acc 2.2666/0.1568\n",
      "Epoch  1, CIFAR-10 Batch 2:  Tr Loss/Acc: 2.1986/0.2500 and Val Loss/Acc 2.1926/0.2438\n",
      "Epoch  1, CIFAR-10 Batch 3:  Tr Loss/Acc: 2.0655/0.2921 and Val Loss/Acc 2.0930/0.2818\n",
      "Epoch  1, CIFAR-10 Batch 4:  Tr Loss/Acc: 1.9361/0.3379 and Val Loss/Acc 1.9605/0.3162\n",
      "Epoch  1, CIFAR-10 Batch 5:  Tr Loss/Acc: 1.8519/0.3366 and Val Loss/Acc 1.8661/0.3284\n",
      "Epoch  2, CIFAR-10 Batch 1:  Tr Loss/Acc: 1.7812/0.3688 and Val Loss/Acc 1.7728/0.3654\n",
      "Epoch  2, CIFAR-10 Batch 2:  Tr Loss/Acc: 1.7216/0.3899 and Val Loss/Acc 1.7092/0.3916\n",
      "Epoch  2, CIFAR-10 Batch 3:  Tr Loss/Acc: 1.6410/0.4270 and Val Loss/Acc 1.6745/0.3986\n",
      "Epoch  2, CIFAR-10 Batch 4:  Tr Loss/Acc: 1.5937/0.4381 and Val Loss/Acc 1.6357/0.4202\n",
      "Epoch  2, CIFAR-10 Batch 5:  Tr Loss/Acc: 1.6108/0.4245 and Val Loss/Acc 1.6016/0.4242\n",
      "Epoch  3, CIFAR-10 Batch 1:  Tr Loss/Acc: 1.5648/0.4505 and Val Loss/Acc 1.5630/0.4362\n",
      "Epoch  3, CIFAR-10 Batch 2:  Tr Loss/Acc: 1.5341/0.4604 and Val Loss/Acc 1.5349/0.4560\n",
      "Epoch  3, CIFAR-10 Batch 3:  Tr Loss/Acc: 1.4776/0.4653 and Val Loss/Acc 1.5257/0.4532\n",
      "Epoch  3, CIFAR-10 Batch 4:  Tr Loss/Acc: 1.4317/0.4913 and Val Loss/Acc 1.5029/0.4646\n",
      "Epoch  3, CIFAR-10 Batch 5:  Tr Loss/Acc: 1.4689/0.4901 and Val Loss/Acc 1.4790/0.4662\n",
      "Epoch  4, CIFAR-10 Batch 1:  Tr Loss/Acc: 1.4374/0.5012 and Val Loss/Acc 1.4522/0.4850\n",
      "Epoch  4, CIFAR-10 Batch 2:  Tr Loss/Acc: 1.4234/0.5087 and Val Loss/Acc 1.4400/0.4886\n",
      "Epoch  4, CIFAR-10 Batch 3:  Tr Loss/Acc: 1.3745/0.5025 and Val Loss/Acc 1.4454/0.4898\n",
      "Epoch  4, CIFAR-10 Batch 4:  Tr Loss/Acc: 1.3333/0.5260 and Val Loss/Acc 1.4121/0.4956\n",
      "Epoch  4, CIFAR-10 Batch 5:  Tr Loss/Acc: 1.3830/0.5371 and Val Loss/Acc 1.4084/0.4866\n",
      "Epoch  5, CIFAR-10 Batch 1:  Tr Loss/Acc: 1.3496/0.5322 and Val Loss/Acc 1.3757/0.5166\n",
      "Epoch  5, CIFAR-10 Batch 2:  Tr Loss/Acc: 1.3607/0.5359 and Val Loss/Acc 1.3807/0.5056\n",
      "Epoch  5, CIFAR-10 Batch 3:  Tr Loss/Acc: 1.3250/0.5111 and Val Loss/Acc 1.4069/0.5082\n",
      "Epoch  5, CIFAR-10 Batch 4:  Tr Loss/Acc: 1.2661/0.5507 and Val Loss/Acc 1.3463/0.5156\n",
      "Epoch  5, CIFAR-10 Batch 5:  Tr Loss/Acc: 1.3033/0.5792 and Val Loss/Acc 1.3446/0.5174\n",
      "Epoch  6, CIFAR-10 Batch 1:  Tr Loss/Acc: 1.2766/0.5458 and Val Loss/Acc 1.3200/0.5340\n",
      "Epoch  6, CIFAR-10 Batch 2:  Tr Loss/Acc: 1.2956/0.5656 and Val Loss/Acc 1.3253/0.5308\n",
      "Epoch  6, CIFAR-10 Batch 3:  Tr Loss/Acc: 1.2272/0.5470 and Val Loss/Acc 1.3092/0.5330\n",
      "Epoch  6, CIFAR-10 Batch 4:  Tr Loss/Acc: 1.2266/0.5730 and Val Loss/Acc 1.3199/0.5278\n",
      "Epoch  6, CIFAR-10 Batch 5:  Tr Loss/Acc: 1.2445/0.5817 and Val Loss/Acc 1.2953/0.5354\n",
      "Epoch  7, CIFAR-10 Batch 1:  Tr Loss/Acc: 1.2098/0.5693 and Val Loss/Acc 1.2758/0.5454\n",
      "Epoch  7, CIFAR-10 Batch 2:  Tr Loss/Acc: 1.2540/0.5718 and Val Loss/Acc 1.3036/0.5382\n",
      "Epoch  7, CIFAR-10 Batch 3:  Tr Loss/Acc: 1.1930/0.5693 and Val Loss/Acc 1.2834/0.5438\n",
      "Epoch  7, CIFAR-10 Batch 4:  Tr Loss/Acc: 1.1694/0.5891 and Val Loss/Acc 1.2685/0.5396\n",
      "Epoch  7, CIFAR-10 Batch 5:  Tr Loss/Acc: 1.1970/0.6027 and Val Loss/Acc 1.2592/0.5478\n",
      "Epoch  8, CIFAR-10 Batch 1:  Tr Loss/Acc: 1.1720/0.5854 and Val Loss/Acc 1.2514/0.5554\n",
      "Epoch  8, CIFAR-10 Batch 2:  Tr Loss/Acc: 1.2082/0.5928 and Val Loss/Acc 1.2613/0.5526\n",
      "Epoch  8, CIFAR-10 Batch 3:  Tr Loss/Acc: 1.1304/0.5953 and Val Loss/Acc 1.2350/0.5632\n",
      "Epoch  8, CIFAR-10 Batch 4:  Tr Loss/Acc: 1.1237/0.5990 and Val Loss/Acc 1.2374/0.5544\n",
      "Epoch  8, CIFAR-10 Batch 5:  Tr Loss/Acc: 1.1632/0.6101 and Val Loss/Acc 1.2414/0.5556\n",
      "Epoch  9, CIFAR-10 Batch 1:  Tr Loss/Acc: 1.1418/0.5916 and Val Loss/Acc 1.2330/0.5642\n",
      "Epoch  9, CIFAR-10 Batch 2:  Tr Loss/Acc: 1.1815/0.5978 and Val Loss/Acc 1.2507/0.5560\n",
      "Epoch  9, CIFAR-10 Batch 3:  Tr Loss/Acc: 1.0989/0.6188 and Val Loss/Acc 1.2095/0.5778\n",
      "Epoch  9, CIFAR-10 Batch 4:  Tr Loss/Acc: 1.0937/0.6151 and Val Loss/Acc 1.2149/0.5730\n",
      "Epoch  9, CIFAR-10 Batch 5:  Tr Loss/Acc: 1.1384/0.6200 and Val Loss/Acc 1.2329/0.5612\n",
      "Epoch 10, CIFAR-10 Batch 1:  Tr Loss/Acc: 1.1136/0.5990 and Val Loss/Acc 1.2155/0.5700\n",
      "Epoch 10, CIFAR-10 Batch 2:  Tr Loss/Acc: 1.1577/0.6139 and Val Loss/Acc 1.2388/0.5636\n",
      "Epoch 10, CIFAR-10 Batch 3:  Tr Loss/Acc: 1.0697/0.6225 and Val Loss/Acc 1.1930/0.5778\n",
      "Epoch 10, CIFAR-10 Batch 4:  Tr Loss/Acc: 1.0545/0.6337 and Val Loss/Acc 1.1870/0.5840\n",
      "Epoch 10, CIFAR-10 Batch 5:  Tr Loss/Acc: 1.1019/0.6411 and Val Loss/Acc 1.2055/0.5698\n",
      "Epoch 11, CIFAR-10 Batch 1:  Tr Loss/Acc: 1.0812/0.6200 and Val Loss/Acc 1.1822/0.5822\n",
      "Epoch 11, CIFAR-10 Batch 2:  Tr Loss/Acc: 1.1027/0.6262 and Val Loss/Acc 1.1787/0.5810\n",
      "Epoch 11, CIFAR-10 Batch 3:  Tr Loss/Acc: 1.0420/0.6337 and Val Loss/Acc 1.1754/0.5818\n",
      "Epoch 11, CIFAR-10 Batch 4:  Tr Loss/Acc: 1.0130/0.6559 and Val Loss/Acc 1.1621/0.5890\n",
      "Epoch 11, CIFAR-10 Batch 5:  Tr Loss/Acc: 1.0592/0.6572 and Val Loss/Acc 1.1726/0.5854\n",
      "Epoch 12, CIFAR-10 Batch 1:  Tr Loss/Acc: 1.0524/0.6275 and Val Loss/Acc 1.1631/0.5872\n",
      "Epoch 12, CIFAR-10 Batch 2:  Tr Loss/Acc: 1.0734/0.6423 and Val Loss/Acc 1.1592/0.5936\n",
      "Epoch 12, CIFAR-10 Batch 3:  Tr Loss/Acc: 1.0118/0.6522 and Val Loss/Acc 1.1579/0.5932\n",
      "Epoch 12, CIFAR-10 Batch 4:  Tr Loss/Acc: 0.9943/0.6634 and Val Loss/Acc 1.1569/0.5940\n",
      "Epoch 12, CIFAR-10 Batch 5:  Tr Loss/Acc: 1.0348/0.6621 and Val Loss/Acc 1.1631/0.5914\n",
      "Epoch 13, CIFAR-10 Batch 1:  Tr Loss/Acc: 1.0336/0.6374 and Val Loss/Acc 1.1532/0.5942\n",
      "Epoch 13, CIFAR-10 Batch 2:  Tr Loss/Acc: 1.0547/0.6535 and Val Loss/Acc 1.1562/0.5950\n",
      "Epoch 13, CIFAR-10 Batch 3:  Tr Loss/Acc: 0.9870/0.6696 and Val Loss/Acc 1.1470/0.5998\n",
      "Epoch 13, CIFAR-10 Batch 4:  Tr Loss/Acc: 0.9846/0.6646 and Val Loss/Acc 1.1574/0.6006\n",
      "Epoch 13, CIFAR-10 Batch 5:  Tr Loss/Acc: 1.0168/0.6782 and Val Loss/Acc 1.1563/0.5944\n",
      "Epoch 14, CIFAR-10 Batch 1:  Tr Loss/Acc: 1.0098/0.6522 and Val Loss/Acc 1.1380/0.6008\n",
      "Epoch 14, CIFAR-10 Batch 2:  Tr Loss/Acc: 1.0257/0.6597 and Val Loss/Acc 1.1392/0.6022\n",
      "Epoch 14, CIFAR-10 Batch 3:  Tr Loss/Acc: 0.9524/0.6795 and Val Loss/Acc 1.1215/0.6054\n",
      "Epoch 14, CIFAR-10 Batch 4:  Tr Loss/Acc: 0.9536/0.6733 and Val Loss/Acc 1.1296/0.6058\n",
      "Epoch 14, CIFAR-10 Batch 5:  Tr Loss/Acc: 0.9756/0.6993 and Val Loss/Acc 1.1186/0.6054\n",
      "Epoch 15, CIFAR-10 Batch 1:  Tr Loss/Acc: 0.9765/0.6733 and Val Loss/Acc 1.1102/0.6076\n",
      "Epoch 15, CIFAR-10 Batch 2:  Tr Loss/Acc: 0.9909/0.6646 and Val Loss/Acc 1.1131/0.6114\n",
      "Epoch 15, CIFAR-10 Batch 3:  Tr Loss/Acc: 0.9301/0.6844 and Val Loss/Acc 1.1090/0.6128\n",
      "Epoch 15, CIFAR-10 Batch 4:  Tr Loss/Acc: 0.9300/0.6844 and Val Loss/Acc 1.1153/0.6136\n",
      "Epoch 15, CIFAR-10 Batch 5:  Tr Loss/Acc: 0.9560/0.7079 and Val Loss/Acc 1.1057/0.6112\n",
      "Epoch 16, CIFAR-10 Batch 1:  Tr Loss/Acc: 0.9569/0.6720 and Val Loss/Acc 1.0951/0.6136\n",
      "Epoch 16, CIFAR-10 Batch 2:  Tr Loss/Acc: 0.9735/0.6807 and Val Loss/Acc 1.1037/0.6144\n",
      "Epoch 16, CIFAR-10 Batch 3:  Tr Loss/Acc: 0.9088/0.6906 and Val Loss/Acc 1.0953/0.6148\n",
      "Epoch 16, CIFAR-10 Batch 4:  Tr Loss/Acc: 0.9135/0.6881 and Val Loss/Acc 1.1055/0.6160\n",
      "Epoch 16, CIFAR-10 Batch 5:  Tr Loss/Acc: 0.9367/0.7240 and Val Loss/Acc 1.0951/0.6174\n",
      "Epoch 17, CIFAR-10 Batch 1:  Tr Loss/Acc: 0.9402/0.6844 and Val Loss/Acc 1.0818/0.6182\n",
      "Epoch 17, CIFAR-10 Batch 2:  Tr Loss/Acc: 0.9517/0.6832 and Val Loss/Acc 1.0892/0.6192\n",
      "Epoch 17, CIFAR-10 Batch 3:  Tr Loss/Acc: 0.8887/0.6955 and Val Loss/Acc 1.0841/0.6186\n",
      "Epoch 17, CIFAR-10 Batch 4:  Tr Loss/Acc: 0.8948/0.6980 and Val Loss/Acc 1.0919/0.6202\n",
      "Epoch 17, CIFAR-10 Batch 5:  Tr Loss/Acc: 0.9156/0.7252 and Val Loss/Acc 1.0825/0.6226\n",
      "Epoch 18, CIFAR-10 Batch 1:  Tr Loss/Acc: 0.9214/0.6894 and Val Loss/Acc 1.0718/0.6238\n",
      "Epoch 18, CIFAR-10 Batch 2:  Tr Loss/Acc: 0.9331/0.6906 and Val Loss/Acc 1.0787/0.6248\n",
      "Epoch 18, CIFAR-10 Batch 3:  Tr Loss/Acc: 0.8695/0.6993 and Val Loss/Acc 1.0767/0.6216\n",
      "Epoch 18, CIFAR-10 Batch 4:  Tr Loss/Acc: 0.8806/0.7042 and Val Loss/Acc 1.0880/0.6212\n",
      "Epoch 18, CIFAR-10 Batch 5:  Tr Loss/Acc: 0.8986/0.7327 and Val Loss/Acc 1.0733/0.6238\n",
      "Epoch 19, CIFAR-10 Batch 1:  Tr Loss/Acc: 0.9071/0.6906 and Val Loss/Acc 1.0637/0.6250\n",
      "Epoch 19, CIFAR-10 Batch 2:  Tr Loss/Acc: 0.9133/0.6943 and Val Loss/Acc 1.0672/0.6284\n",
      "Epoch 19, CIFAR-10 Batch 3:  Tr Loss/Acc: 0.8499/0.7017 and Val Loss/Acc 1.0670/0.6254\n",
      "Epoch 19, CIFAR-10 Batch 4:  Tr Loss/Acc: 0.8652/0.7017 and Val Loss/Acc 1.0800/0.6258\n"
     ]
    },
    {
     "name": "stdout",
     "output_type": "stream",
     "text": [
      "Epoch 19, CIFAR-10 Batch 5:  Tr Loss/Acc: 0.8829/0.7327 and Val Loss/Acc 1.0656/0.6262\n",
      "Epoch 20, CIFAR-10 Batch 1:  Tr Loss/Acc: 0.8933/0.6968 and Val Loss/Acc 1.0563/0.6282\n",
      "Epoch 20, CIFAR-10 Batch 2:  Tr Loss/Acc: 0.8972/0.7017 and Val Loss/Acc 1.0559/0.6316\n",
      "Epoch 20, CIFAR-10 Batch 3:  Tr Loss/Acc: 0.8338/0.7153 and Val Loss/Acc 1.0587/0.6286\n",
      "Epoch 20, CIFAR-10 Batch 4:  Tr Loss/Acc: 0.8475/0.7129 and Val Loss/Acc 1.0675/0.6310\n",
      "Epoch 20, CIFAR-10 Batch 5:  Tr Loss/Acc: 0.8735/0.7364 and Val Loss/Acc 1.0666/0.6284\n",
      "Epoch 21, CIFAR-10 Batch 1:  Tr Loss/Acc: 0.8788/0.7092 and Val Loss/Acc 1.0503/0.6312\n",
      "Epoch 21, CIFAR-10 Batch 2:  Tr Loss/Acc: 0.8828/0.7067 and Val Loss/Acc 1.0472/0.6368\n",
      "Epoch 21, CIFAR-10 Batch 3:  Tr Loss/Acc: 0.8230/0.7178 and Val Loss/Acc 1.0579/0.6274\n",
      "Epoch 21, CIFAR-10 Batch 4:  Tr Loss/Acc: 0.8342/0.7153 and Val Loss/Acc 1.0581/0.6310\n",
      "Epoch 21, CIFAR-10 Batch 5:  Tr Loss/Acc: 0.8684/0.7290 and Val Loss/Acc 1.0706/0.6278\n",
      "Epoch 22, CIFAR-10 Batch 1:  Tr Loss/Acc: 0.8598/0.7104 and Val Loss/Acc 1.0376/0.6352\n",
      "Epoch 22, CIFAR-10 Batch 2:  Tr Loss/Acc: 0.8711/0.7042 and Val Loss/Acc 1.0381/0.6384\n",
      "Epoch 22, CIFAR-10 Batch 3:  Tr Loss/Acc: 0.8136/0.7178 and Val Loss/Acc 1.0539/0.6300\n",
      "Epoch 22, CIFAR-10 Batch 4:  Tr Loss/Acc: 0.8219/0.7153 and Val Loss/Acc 1.0479/0.6342\n",
      "Epoch 22, CIFAR-10 Batch 5:  Tr Loss/Acc: 0.8531/0.7302 and Val Loss/Acc 1.0640/0.6312\n",
      "Epoch 23, CIFAR-10 Batch 1:  Tr Loss/Acc: 0.8410/0.7178 and Val Loss/Acc 1.0272/0.6386\n",
      "Epoch 23, CIFAR-10 Batch 2:  Tr Loss/Acc: 0.8613/0.7067 and Val Loss/Acc 1.0339/0.6390\n",
      "Epoch 23, CIFAR-10 Batch 3:  Tr Loss/Acc: 0.7990/0.7203 and Val Loss/Acc 1.0427/0.6358\n",
      "Epoch 23, CIFAR-10 Batch 4:  Tr Loss/Acc: 0.8115/0.7265 and Val Loss/Acc 1.0431/0.6342\n",
      "Epoch 23, CIFAR-10 Batch 5:  Tr Loss/Acc: 0.8348/0.7426 and Val Loss/Acc 1.0524/0.6362\n",
      "Epoch 24, CIFAR-10 Batch 1:  Tr Loss/Acc: 0.8295/0.7166 and Val Loss/Acc 1.0226/0.6420\n",
      "Epoch 24, CIFAR-10 Batch 2:  Tr Loss/Acc: 0.8486/0.7092 and Val Loss/Acc 1.0267/0.6428\n",
      "Epoch 24, CIFAR-10 Batch 3:  Tr Loss/Acc: 0.7854/0.7339 and Val Loss/Acc 1.0332/0.6392\n",
      "Epoch 24, CIFAR-10 Batch 4:  Tr Loss/Acc: 0.7986/0.7314 and Val Loss/Acc 1.0347/0.6350\n",
      "Epoch 24, CIFAR-10 Batch 5:  Tr Loss/Acc: 0.8184/0.7512 and Val Loss/Acc 1.0440/0.6374\n",
      "Epoch 25, CIFAR-10 Batch 1:  Tr Loss/Acc: 0.8198/0.7215 and Val Loss/Acc 1.0181/0.6424\n",
      "Epoch 25, CIFAR-10 Batch 2:  Tr Loss/Acc: 0.8367/0.7116 and Val Loss/Acc 1.0208/0.6436\n",
      "Epoch 25, CIFAR-10 Batch 3:  Tr Loss/Acc: 0.7718/0.7426 and Val Loss/Acc 1.0244/0.6444\n",
      "Epoch 25, CIFAR-10 Batch 4:  Tr Loss/Acc: 0.7855/0.7351 and Val Loss/Acc 1.0272/0.6382\n",
      "Epoch 25, CIFAR-10 Batch 5:  Tr Loss/Acc: 0.8037/0.7599 and Val Loss/Acc 1.0367/0.6390\n",
      "Epoch 26, CIFAR-10 Batch 1:  Tr Loss/Acc: 0.8096/0.7240 and Val Loss/Acc 1.0137/0.6434\n",
      "Epoch 26, CIFAR-10 Batch 2:  Tr Loss/Acc: 0.8252/0.7203 and Val Loss/Acc 1.0162/0.6456\n",
      "Epoch 26, CIFAR-10 Batch 3:  Tr Loss/Acc: 0.7594/0.7426 and Val Loss/Acc 1.0177/0.6478\n",
      "Epoch 26, CIFAR-10 Batch 4:  Tr Loss/Acc: 0.7740/0.7438 and Val Loss/Acc 1.0196/0.6418\n",
      "Epoch 26, CIFAR-10 Batch 5:  Tr Loss/Acc: 0.7886/0.7624 and Val Loss/Acc 1.0286/0.6422\n",
      "Epoch 27, CIFAR-10 Batch 1:  Tr Loss/Acc: 0.7983/0.7290 and Val Loss/Acc 1.0087/0.6462\n",
      "Epoch 27, CIFAR-10 Batch 2:  Tr Loss/Acc: 0.8145/0.7228 and Val Loss/Acc 1.0105/0.6478\n",
      "Epoch 27, CIFAR-10 Batch 3:  Tr Loss/Acc: 0.7471/0.7463 and Val Loss/Acc 1.0117/0.6498\n",
      "Epoch 27, CIFAR-10 Batch 4:  Tr Loss/Acc: 0.7624/0.7475 and Val Loss/Acc 1.0124/0.6448\n",
      "Epoch 27, CIFAR-10 Batch 5:  Tr Loss/Acc: 0.7747/0.7636 and Val Loss/Acc 1.0217/0.6460\n",
      "Epoch 28, CIFAR-10 Batch 1:  Tr Loss/Acc: 0.7875/0.7290 and Val Loss/Acc 1.0046/0.6476\n",
      "Epoch 28, CIFAR-10 Batch 2:  Tr Loss/Acc: 0.8057/0.7215 and Val Loss/Acc 1.0062/0.6478\n",
      "Epoch 28, CIFAR-10 Batch 3:  Tr Loss/Acc: 0.7360/0.7450 and Val Loss/Acc 1.0062/0.6510\n",
      "Epoch 28, CIFAR-10 Batch 4:  Tr Loss/Acc: 0.7524/0.7488 and Val Loss/Acc 1.0077/0.6470\n",
      "Epoch 28, CIFAR-10 Batch 5:  Tr Loss/Acc: 0.7631/0.7698 and Val Loss/Acc 1.0165/0.6472\n",
      "Epoch 29, CIFAR-10 Batch 1:  Tr Loss/Acc: 0.7760/0.7376 and Val Loss/Acc 1.0000/0.6490\n",
      "Epoch 29, CIFAR-10 Batch 2:  Tr Loss/Acc: 0.7944/0.7314 and Val Loss/Acc 1.0015/0.6484\n",
      "Epoch 29, CIFAR-10 Batch 3:  Tr Loss/Acc: 0.7254/0.7450 and Val Loss/Acc 1.0007/0.6514\n",
      "Epoch 29, CIFAR-10 Batch 4:  Tr Loss/Acc: 0.7419/0.7500 and Val Loss/Acc 1.0030/0.6498\n",
      "Epoch 29, CIFAR-10 Batch 5:  Tr Loss/Acc: 0.7513/0.7710 and Val Loss/Acc 1.0107/0.6476\n",
      "Epoch 30, CIFAR-10 Batch 1:  Tr Loss/Acc: 0.7653/0.7426 and Val Loss/Acc 0.9958/0.6514\n",
      "Epoch 30, CIFAR-10 Batch 2:  Tr Loss/Acc: 0.7840/0.7314 and Val Loss/Acc 0.9975/0.6494\n",
      "Epoch 30, CIFAR-10 Batch 3:  Tr Loss/Acc: 0.7148/0.7488 and Val Loss/Acc 0.9940/0.6536\n",
      "Epoch 30, CIFAR-10 Batch 4:  Tr Loss/Acc: 0.7301/0.7537 and Val Loss/Acc 0.9968/0.6540\n",
      "Epoch 30, CIFAR-10 Batch 5:  Tr Loss/Acc: 0.7395/0.7735 and Val Loss/Acc 1.0056/0.6504\n",
      "Epoch 31, CIFAR-10 Batch 1:  Tr Loss/Acc: 0.7549/0.7525 and Val Loss/Acc 0.9918/0.6530\n",
      "Epoch 31, CIFAR-10 Batch 2:  Tr Loss/Acc: 0.7727/0.7339 and Val Loss/Acc 0.9936/0.6506\n",
      "Epoch 31, CIFAR-10 Batch 3:  Tr Loss/Acc: 0.7047/0.7525 and Val Loss/Acc 0.9890/0.6544\n",
      "Epoch 31, CIFAR-10 Batch 4:  Tr Loss/Acc: 0.7191/0.7550 and Val Loss/Acc 0.9918/0.6562\n",
      "Epoch 31, CIFAR-10 Batch 5:  Tr Loss/Acc: 0.7283/0.7834 and Val Loss/Acc 1.0010/0.6492\n",
      "Epoch 32, CIFAR-10 Batch 1:  Tr Loss/Acc: 0.7439/0.7574 and Val Loss/Acc 0.9877/0.6556\n",
      "Epoch 32, CIFAR-10 Batch 2:  Tr Loss/Acc: 0.7627/0.7450 and Val Loss/Acc 0.9900/0.6504\n",
      "Epoch 32, CIFAR-10 Batch 3:  Tr Loss/Acc: 0.6961/0.7550 and Val Loss/Acc 0.9875/0.6562\n",
      "Epoch 32, CIFAR-10 Batch 4:  Tr Loss/Acc: 0.7098/0.7587 and Val Loss/Acc 0.9881/0.6568\n",
      "Epoch 32, CIFAR-10 Batch 5:  Tr Loss/Acc: 0.7181/0.7896 and Val Loss/Acc 0.9986/0.6498\n",
      "Epoch 33, CIFAR-10 Batch 1:  Tr Loss/Acc: 0.7344/0.7574 and Val Loss/Acc 0.9842/0.6584\n",
      "Epoch 33, CIFAR-10 Batch 2:  Tr Loss/Acc: 0.7516/0.7413 and Val Loss/Acc 0.9859/0.6536\n",
      "Epoch 33, CIFAR-10 Batch 3:  Tr Loss/Acc: 0.6847/0.7525 and Val Loss/Acc 0.9820/0.6574\n",
      "Epoch 33, CIFAR-10 Batch 4:  Tr Loss/Acc: 0.6997/0.7673 and Val Loss/Acc 0.9840/0.6584\n",
      "Epoch 33, CIFAR-10 Batch 5:  Tr Loss/Acc: 0.7079/0.7946 and Val Loss/Acc 0.9954/0.6524\n",
      "Epoch 34, CIFAR-10 Batch 1:  Tr Loss/Acc: 0.7253/0.7611 and Val Loss/Acc 0.9814/0.6590\n",
      "Epoch 34, CIFAR-10 Batch 2:  Tr Loss/Acc: 0.7428/0.7512 and Val Loss/Acc 0.9830/0.6530\n",
      "Epoch 34, CIFAR-10 Batch 3:  Tr Loss/Acc: 0.6753/0.7599 and Val Loss/Acc 0.9785/0.6616\n",
      "Epoch 34, CIFAR-10 Batch 4:  Tr Loss/Acc: 0.6902/0.7710 and Val Loss/Acc 0.9794/0.6576\n",
      "Epoch 34, CIFAR-10 Batch 5:  Tr Loss/Acc: 0.6976/0.7921 and Val Loss/Acc 0.9923/0.6528\n",
      "Epoch 35, CIFAR-10 Batch 1:  Tr Loss/Acc: 0.7155/0.7649 and Val Loss/Acc 0.9783/0.6596\n",
      "Epoch 35, CIFAR-10 Batch 2:  Tr Loss/Acc: 0.7321/0.7574 and Val Loss/Acc 0.9793/0.6570\n",
      "Epoch 35, CIFAR-10 Batch 3:  Tr Loss/Acc: 0.6659/0.7649 and Val Loss/Acc 0.9749/0.6630\n",
      "Epoch 35, CIFAR-10 Batch 4:  Tr Loss/Acc: 0.6804/0.7735 and Val Loss/Acc 0.9764/0.6590\n",
      "Epoch 35, CIFAR-10 Batch 5:  Tr Loss/Acc: 0.6868/0.7958 and Val Loss/Acc 0.9890/0.6522\n"
     ]
    }
   ],
   "source": [
    "\"\"\"\n",
    "DON'T MODIFY ANYTHING IN THIS CELL\n",
    "\"\"\"\n",
    "save_model_path = './image_classification'\n",
    "\n",
    "print('Training...')\n",
    "with tf.Session() as sess:\n",
    "    # Initializing the variables\n",
    "    sess.run(tf.global_variables_initializer())\n",
    "    \n",
    "    # Training cycle\n",
    "    for epoch in range(epochs):\n",
    "        # Loop over all batches\n",
    "        n_batches = 5\n",
    "        for batch_i in range(1, n_batches + 1):\n",
    "            for batch_features, batch_labels in helper.load_preprocess_training_batch(batch_i, batch_size):\n",
    "                train_neural_network(sess, optimizer, keep_probability, batch_features, batch_labels)\n",
    "            print('Epoch {:>2}, CIFAR-10 Batch {}:  '.format(epoch + 1, batch_i), end='')\n",
    "            print_stats(sess, batch_features, batch_labels, cost, accuracy)\n",
    "            \n",
    "    # Save Model\n",
    "    saver = tf.train.Saver()\n",
    "    save_path = saver.save(sess, save_model_path)"
   ]
  },
  {
   "cell_type": "markdown",
   "metadata": {},
   "source": [
    "# Checkpoint\n",
    "The model has been saved to disk.\n",
    "## Test Model\n",
    "Test your model against the test dataset.  This will be your final accuracy. You should have an accuracy greater than 50%. If you don't, keep tweaking the model architecture and parameters."
   ]
  },
  {
   "cell_type": "code",
   "execution_count": 60,
   "metadata": {},
   "outputs": [
    {
     "name": "stdout",
     "output_type": "stream",
     "text": [
      "INFO:tensorflow:Restoring parameters from ./image_classification\n",
      "Testing Accuracy: 0.6579983115196228\n",
      "\n"
     ]
    },
    {
     "data": {
      "image/png": "[encoded data removed]",
      "text/plain": [
       "<matplotlib.figure.Figure at 0x7f13fe1a1da0>"
      ]
     },
     "metadata": {
      "image/png": {
       "height": 319,
       "width": 355
      }
     },
     "output_type": "display_data"
    }
   ],
   "source": [
    "\"\"\"\n",
    "DON'T MODIFY ANYTHING IN THIS CELL\n",
    "\"\"\"\n",
    "%matplotlib inline\n",
    "%config InlineBackend.figure_format = 'retina'\n",
    "\n",
    "import tensorflow as tf\n",
    "import pickle\n",
    "import helper\n",
    "import random\n",
    "\n",
    "# Set batch size if not already set\n",
    "try:\n",
    "    if batch_size:\n",
    "        pass\n",
    "except NameError:\n",
    "    batch_size = 64\n",
    "\n",
    "save_model_path = './image_classification'\n",
    "n_samples = 4\n",
    "top_n_predictions = 3\n",
    "\n",
    "def test_model():\n",
    "    \"\"\"\n",
    "    Test the saved model against the test dataset\n",
    "    \"\"\"\n",
    "\n",
    "    test_features, test_labels = pickle.load(open('preprocess_test.p', mode='rb'))\n",
    "    loaded_graph = tf.Graph()\n",
    "\n",
    "    with tf.Session(graph=loaded_graph) as sess:\n",
    "        # Load model\n",
    "        loader = tf.train.import_meta_graph(save_model_path + '.meta')\n",
    "        loader.restore(sess, save_model_path)\n",
    "\n",
    "        # Get Tensors from loaded model\n",
    "        loaded_x = loaded_graph.get_tensor_by_name('x:0')\n",
    "        loaded_y = loaded_graph.get_tensor_by_name('y:0')\n",
    "        loaded_keep_prob = loaded_graph.get_tensor_by_name('keep_prob:0')\n",
    "        loaded_logits = loaded_graph.get_tensor_by_name('logits:0')\n",
    "        loaded_acc = loaded_graph.get_tensor_by_name('accuracy:0')\n",
    "        \n",
    "        # Get accuracy in batches for memory limitations\n",
    "        test_batch_acc_total = 0\n",
    "        test_batch_count = 0\n",
    "        \n",
    "        for test_feature_batch, test_label_batch in helper.batch_features_labels(test_features, test_labels, batch_size):\n",
    "            test_batch_acc_total += sess.run(\n",
    "                loaded_acc,\n",
    "                feed_dict={loaded_x: test_feature_batch, loaded_y: test_label_batch, loaded_keep_prob: 1.0})\n",
    "            test_batch_count += 1\n",
    "\n",
    "        print('Testing Accuracy: {}\\n'.format(test_batch_acc_total/test_batch_count))\n",
    "\n",
    "        # Print Random Samples\n",
    "        random_test_features, random_test_labels = tuple(zip(*random.sample(list(zip(test_features, test_labels)), n_samples)))\n",
    "        random_test_predictions = sess.run(\n",
    "            tf.nn.top_k(tf.nn.softmax(loaded_logits), top_n_predictions),\n",
    "            feed_dict={loaded_x: random_test_features, loaded_y: random_test_labels, loaded_keep_prob: 1.0})\n",
    "        helper.display_image_predictions(random_test_features, random_test_labels, random_test_predictions)\n",
    "\n",
    "\n",
    "test_model()"
   ]
  },
  {
   "cell_type": "markdown",
   "metadata": {},
   "source": [
    "## Why 50-80% Accuracy?\n",
    "You might be wondering why you can't get an accuracy any higher. First things first, 50% isn't bad for a simple CNN.  Pure guessing would get you 10% accuracy. However, you might notice people are getting scores [well above 80%](http://rodrigob.github.io/are_we_there_yet/build/classification_datasets_results.html#43494641522d3130).  That's because we haven't taught you all there is to know about neural networks. We still need to cover a few more techniques.\n",
    "## Submitting This Project\n",
    "When submitting this project, make sure to run all the cells before saving the notebook.  Save the notebook file as \"dlnd_image_classification.ipynb\" and save it as a HTML file under \"File\" -> \"Download as\".  Include the \"helper.py\" and \"problem_unittests.py\" files in your submission."
   ]
  }
 ],
 "metadata": {
  "kernelspec": {
   "display_name": "Python 3",
   "language": "python",
   "name": "python3"
  },
  "language_info": {
   "codemirror_mode": {
    "name": "ipython",
    "version": 3
   },
   "file_extension": ".py",
   "mimetype": "text/x-python",
   "name": "python",
   "nbconvert_exporter": "python",
   "pygments_lexer": "ipython3",
   "version": "3.5.3"
  }
 },
 "nbformat": 4,
 "nbformat_minor": 1
}
